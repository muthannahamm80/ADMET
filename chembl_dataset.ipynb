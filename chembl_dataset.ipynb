{
 "cells": [
  {
   "cell_type": "markdown",
   "metadata": {},
   "source": [
    "# ChEMBL Compound Dataset for hERG and CYP3A4\n",
    "\n",
    "This notebook retrieves activity data from ChEMBL for hERG and CYP3A4, converts activity measures to μM, removes salts/invalid SMILES, retains compounds with both targets, and saves a dataset."
   ]
  },
  {
   "cell_type": "markdown",
   "metadata": {},
   "source": [
    "## Setup Environment\n",
    "\n",
    "Install dependencies:"
   ]
  },
  {
   "cell_type": "code",
   "metadata": {},
   "source": [
    "!pip install chembl_webresource_client pandas rdkit-pypi"
   ],
   "execution_count": null,
   "outputs": []
  },
  {
   "cell_type": "markdown",
   "metadata": {},
   "source": [
    "## Import Libraries"
   ]
  },
  {
   "cell_type": "code",
   "metadata": {},
   "source": [
    "import pandas as pd\n",
    "from chembl_webresource_client.new_client import new_client\n",
    "from rdkit import Chem\n",
    "import time"
   ],
   "execution_count": null,
   "outputs": []
  },
  {
   "cell_type": "markdown",
   "metadata": {},
   "source": [
    "## Define Targets and Fetch Function"
   ]
  },
  {
   "cell_type": "code",
   "metadata": {},
   "source": [
    "targets = {\n",
    "    'herg': 'CHEMBL203',\n",
    "    'cyp3a4': 'CHEMBL1569'\n",
    "}\n",
    "\n",
    "activity = new_client.activity\n",
    "molecule = new_client.molecule\n",
    "\n",
    "def fetch_activities(target_id):\n",
    "    activities_list = []\n",
    "    count = 0\n",
    "    activities = activity.filter(target__target_components__accession=target_id)\n",
    "    for act in activities:\n",
    "        try:\n",
    "            chembl_id = act['molecule_chembl_id']\n",
    "            mol_struct = molecule.get(chembl_id).get('molecule_structures', {}).get('canonical_smiles', None)\n",
    "            if mol_struct is None:\n",
    "                continue\n",
    "            std_type = act.get('standard_type')\n",
    "            std_value = act.get('standard_value')\n",
    "            if std_value is None:\n",
    "                continue\n",
    "            value = float(std_value)\n",
    "            if std_type and 'p' in std_type:\n",
    "                value_muM = 10 ** (-value)\n",
    "            else:\n",
    "                value_muM = value\n",
    "            activities_list.append({\n",
    "                'chembl_id': chembl_id,\n",
    "                'canonical_smiles': mol_struct,\n",
    "                'endpoint': target_id,\n",
    "                'value': value_muM\n",
    "            })\n",
    "            count += 1\n",
    "            if count % 100 == 0:\n",
    "                print(f\"Fetched {count} records for {target_id}...\")\n",
    "        except:\n",
    "            continue\n",
    "    print(f\"Finished fetching {count} records for {target_id}.\")\n",
    "    return activities_list\n"
   ],
   "execution_count": null,
   "outputs": []
  },
  {
   "cell_type": "markdown",
   "metadata": {},
   "source": [
    "## Fetch and Process Data"
   ]
  },
  {
   "cell_type": "code",
   "metadata": {},
   "source": [
    "data_records = []\n",
    "for endpoint, target_id in targets.items():\n",
    "    print(f\"Starting data fetch for {endpoint}...\")\n",
    "    acts = fetch_activities(target_id)\n",
    "    data_records.extend(acts)\n",
    "    time.sleep(1)\n",
    "\
